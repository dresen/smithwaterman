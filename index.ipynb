{
 "cells": [
  {
   "cell_type": "code",
   "execution_count": null,
   "metadata": {},
   "outputs": [],
   "source": [
    "#hide\n",
    "from smithwaterman.core import *"
   ]
  },
  {
   "cell_type": "markdown",
   "metadata": {},
   "source": [
    "# Smith-Waterman \n",
    "\n",
    "> As part of a speech recognition project to extract usable training data from speech data with noisy reference transcriptions, I reimplemented the (striped) Smith-Waterman (SSW) that was used to create the LibriSpeech corpus. There's a lot of copy pasta from other implementations and the only change I made was that I needed the implementation to work on lists instead of a string of characters which is common because the algorithm was invented to align DNA sequences."
   ]
  },
  {
   "cell_type": "markdown",
   "metadata": {},
   "source": [
    "## Install"
   ]
  },
  {
   "cell_type": "markdown",
   "metadata": {},
   "source": [
    "`pip install smithwaterman`"
   ]
  },
  {
   "cell_type": "markdown",
   "metadata": {},
   "source": [
    "## How to use"
   ]
  },
  {
   "cell_type": "markdown",
   "metadata": {},
   "source": [
    "A single function exposes the necessary functionality:"
   ]
  },
  {
   "cell_type": "markdown",
   "metadata": {},
   "source": [
    "`startposition, aligned_subsequences = smith_waterman(hypothesis, reference, match_score=3, gap_cost=2)`\n",
    "e.g."
   ]
  },
  {
   "cell_type": "code",
   "execution_count": null,
   "metadata": {},
   "outputs": [],
   "source": [
    "start_position, aligned = smithwaterman('Den uheldige politimand fanger aldrig sin lykkes smed'.split(),\n",
    "                                         'Den uheldige postmand finder aldrig sin lykkes smed'.split())"
   ]
  },
  {
   "cell_type": "markdown",
   "metadata": {},
   "source": [
    "`start_position` is the start of the first aligned subsequence and `aligned` is a list of aligned sub sequences:"
   ]
  },
  {
   "cell_type": "code",
   "execution_count": null,
   "metadata": {},
   "outputs": [
    {
     "name": "stdout",
     "output_type": "stream",
     "text": [
      "Sub sequence 0: DEN UHELDIGE\n",
      "Sub sequence 1: SIN LYKKES SMED\n"
     ]
    }
   ],
   "source": [
    "for i, subsequence in enumerate(aligned):\n",
    "    pretty = ' '.join(subsequence)\n",
    "    print(f'Sub sequence {i}: {pretty}')"
   ]
  },
  {
   "cell_type": "markdown",
   "metadata": {},
   "source": [
    "The `smithwaterman()` function is designed to work on list, but will also work on strings:"
   ]
  },
  {
   "cell_type": "code",
   "execution_count": null,
   "metadata": {},
   "outputs": [
    {
     "data": {
      "text/plain": [
       "['DEN UHELDIGE PO', 'AND F', 'N', 'ER ALDRIG SIN LYKKES SMED']"
      ]
     },
     "execution_count": null,
     "metadata": {},
     "output_type": "execute_result"
    }
   ],
   "source": [
    "start_position, aligned = smithwaterman('Den uheldige politimand fanger aldrig sin lykkes smed',\n",
    "                                         'Den uheldige postmand finder aldrig sin lykkes smed')\n",
    "[''.join(string) for string in aligned]"
   ]
  },
  {
   "cell_type": "markdown",
   "metadata": {},
   "source": [
    "## Optional arguments"
   ]
  },
  {
   "cell_type": "markdown",
   "metadata": {},
   "source": [
    "The `match_score` and `gap_cost` arguments are parameters that can be used to tweak the alignment. Increasing `match_score` and decreasing `gap_cost` improves the word alignment in our example:"
   ]
  },
  {
   "cell_type": "code",
   "execution_count": null,
   "metadata": {},
   "outputs": [
    {
     "data": {
      "text/plain": [
       "['DEN UHELDIGE', 'ALDRIG SIN LYKKES SMED']"
      ]
     },
     "execution_count": null,
     "metadata": {},
     "output_type": "execute_result"
    }
   ],
   "source": [
    "start_position, aligned = smithwaterman('Den uheldige politimand fanger aldrig sin lykkes smed'.split(),\n",
    "                                         'Den uheldige postmand finder aldrig sin lykkes smed'.split(),\n",
    "                                      match_score=4, gap_cost=1)\n",
    "[' '.join(string) for string in aligned]"
   ]
  },
  {
   "cell_type": "markdown",
   "metadata": {},
   "source": [
    "Decreasing `match_score` and increasing the `gap_cost` will reduce the number of aligned subsequences:"
   ]
  },
  {
   "cell_type": "code",
   "execution_count": null,
   "metadata": {},
   "outputs": [
    {
     "data": {
      "text/plain": [
       "['DEN UHELDIGE PO', ' ALDRIG SIN LYKKES SMED']"
      ]
     },
     "execution_count": null,
     "metadata": {},
     "output_type": "execute_result"
    }
   ],
   "source": [
    "start_position, aligned = smithwaterman('Den uheldige politimand fanger aldrig sin lykkes smed',\n",
    "                                         'Den uheldige postmand finder aldrig sin lykkes smed',\n",
    "                                      match_score=1, gap_cost=4)\n",
    "[''.join(string) for string in aligned]"
   ]
  },
  {
   "cell_type": "markdown",
   "metadata": {},
   "source": [
    "So a high `match_score` vs. low `gap_cost` will cause the algorithm to align more/longer sequences and a low `match_score` vs. high `gap_cost` will result in fewer aligned sequences. However, the alignments are likely better."
   ]
  },
  {
   "cell_type": "markdown",
   "metadata": {},
   "source": [
    "`gap_cost` is an umbrella term for deletions and insertions (think edit distance) and here the gap costs are linear, i.e. the costs for both operations are the same."
   ]
  },
  {
   "cell_type": "code",
   "execution_count": null,
   "metadata": {},
   "outputs": [],
   "source": []
  }
 ],
 "metadata": {
  "kernelspec": {
   "display_name": "Python 3",
   "language": "python",
   "name": "python3"
  }
 },
 "nbformat": 4,
 "nbformat_minor": 2
}
