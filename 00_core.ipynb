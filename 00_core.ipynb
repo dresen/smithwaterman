{
 "cells": [
  {
   "cell_type": "code",
   "execution_count": null,
   "metadata": {},
   "outputs": [],
   "source": [
    "# default_exp core"
   ]
  },
  {
   "cell_type": "markdown",
   "metadata": {},
   "source": [
    "# smithwaterman\n",
    "\n",
    "> API details."
   ]
  },
  {
   "cell_type": "code",
   "execution_count": null,
   "metadata": {},
   "outputs": [],
   "source": [
    "#hide\n",
    "from nbdev.showdoc import *"
   ]
  },
  {
   "cell_type": "code",
   "execution_count": null,
   "metadata": {},
   "outputs": [],
   "source": [
    "#export\n",
    "import itertools\n",
    "import numpy as np"
   ]
  },
  {
   "cell_type": "markdown",
   "metadata": {},
   "source": [
    "# Preprocessing"
   ]
  },
  {
   "cell_type": "code",
   "execution_count": null,
   "metadata": {},
   "outputs": [],
   "source": [
    "#export\n",
    "def words2ints(list_of_strings):\n",
    "    \"\"\"Map unique words to integer IDs\"\"\"\n",
    "    wordlist = set([])\n",
    "    for strings in list_of_strings:\n",
    "        wordlist.update(strings.split())\n",
    "    w2i = {k: str(v) for v, k in enumerate(wordlist)}\n",
    "    return w2i"
   ]
  },
  {
   "cell_type": "markdown",
   "metadata": {},
   "source": [
    "## Obligatory example with Monty Python quotes"
   ]
  },
  {
   "cell_type": "code",
   "execution_count": null,
   "metadata": {},
   "outputs": [
    {
     "data": {
      "text/plain": [
       "{'of': '0',\n",
       " 'cheese': '1',\n",
       " 'uncontaminated': '2',\n",
       " 'sir': '3',\n",
       " 'you': '4',\n",
       " 'what': '5',\n",
       " 'certainly': '6',\n",
       " 'by': '7',\n",
       " 'a': '8',\n",
       " 'shop': '9',\n",
       " 'to': '10',\n",
       " 'it': '11',\n",
       " \"It's\": '12',\n",
       " 'so': '13',\n",
       " 'is': '14',\n",
       " 'conclusion': '15',\n",
       " 'district': '16',\n",
       " 'that': '17',\n",
       " \"it's\": '18',\n",
       " 'much': '19',\n",
       " 'Well': '20',\n",
       " 'leads': '21',\n",
       " 'Finest': '22',\n",
       " 'clean': '23',\n",
       " 'Not': '24',\n",
       " 'the': '25',\n",
       " 'in': '26',\n",
       " 'And': '27'}"
      ]
     },
     "execution_count": null,
     "metadata": {},
     "output_type": "execute_result"
    }
   ],
   "source": [
    "text = \"\"\"Not much of a cheese shop is it\n",
    "Finest in the district sir\n",
    "And what leads you to that conclusion\n",
    "Well it's so clean\n",
    "It's certainly uncontaminated by cheese\"\"\".split('\\n')\n",
    "\n",
    "words2ints(text)"
   ]
  },
  {
   "cell_type": "code",
   "execution_count": null,
   "metadata": {},
   "outputs": [],
   "source": [
    "# Test that the keys and values are correct\n",
    "# The exact mapping will differ between runs, so we don't check that\n",
    "hyp = words2ints('1 2 3') \n",
    "ref = {'1': '0', '3': '1', '2': '2'}\n",
    "assert hyp.keys() & ref.keys() == ref.keys()\n",
    "assert set(hyp.values()) & set(ref.values()) == set(ref.values())"
   ]
  },
  {
   "cell_type": "code",
   "execution_count": null,
   "metadata": {},
   "outputs": [],
   "source": [
    "#export\n",
    "def traceback(score_matrix, sequence_b, aligned_sequence=None, old_i=0):\n",
    "    \"\"\"Trace back the best alignments for subsequences of a and b sequences\"\"\"\n",
    "    if aligned_sequence is None:\n",
    "        aligned_sequence = [[]]\n",
    "    # flip H to get index of **last** occurrence of score_matrix.max() with np.argmax()\n",
    "    matrix_flip = np.flip(np.flip(score_matrix, 0), 1)\n",
    "    # np.argmax() returns an index into a flattened array\n",
    "    # np.unravel_index translates that into a coordinate into matrix_flip\n",
    "    i_flip, j_flip = np.unravel_index(matrix_flip.argmax(), matrix_flip.shape)\n",
    "    # Translate the coordinates into matrix_flip into coordinates into\n",
    "    # score_matrix: (i, j) are the last indexes of H.max()\n",
    "    # np.subtract is element-wise\n",
    "    i, j = np.subtract(score_matrix.shape, (i_flip + 1, j_flip + 1))\n",
    "    # Termination: we reached a gap in the alignment\n",
    "    if score_matrix[i, j] == 0:\n",
    "        # be will be the string that has been\n",
    "        # compiled during the recursion below\n",
    "        return [seq[::-1] for seq in aligned_sequence[::-1]], j\n",
    "    # Traceback happens\n",
    "    if old_i - i > 1:\n",
    "        # A delete or insert operation == gap\n",
    "        # aligned_sequence = sequence_b[j - 1] + '-' + aligned_sequence\n",
    "        aligned_sequence.append([sequence_b[j - 1]])\n",
    "    else:\n",
    "        # Alignment continues\n",
    "        # aligned_sequence = sequence_b[j - 1] + aligned_sequence\n",
    "        aligned_sequence[-1].append(sequence_b[j - 1])\n",
    "\n",
    "    # Recurse\n",
    "    return traceback(score_matrix[0:i, 0:j], sequence_b, aligned_sequence, i)"
   ]
  },
  {
   "cell_type": "code",
   "execution_count": null,
   "metadata": {},
   "outputs": [],
   "source": [
    "#export\n",
    "def matrix(sequence_a, sequence_b, match_score=3, gap_cost=2):\n",
    "    \"\"\"Create a score matrix from the two sequences that we are aligning. Define the\n",
    "    match score and gap cost, then fill the matrix.\n",
    "    The gap cost is linear: delete and insert operations cost the same\"\"\"\n",
    "\n",
    "    # Everything that is not a match is a zero\n",
    "    # Why do we make the length of the sequences longer?\n",
    "    score_matrix = np.zeros((len(sequence_a) + 1, len(sequence_b) + 1), np.int)\n",
    "\n",
    "    for i, j in itertools.product(range(1, score_matrix.shape[0]), range(1, score_matrix.shape[1])):\n",
    "        # add match_score if the previous elements in the sequences match else subtract match_score\n",
    "        match = score_matrix[i - 1, j - 1] \\\n",
    "            + (match_score if sequence_a[i - 1] == sequence_b[j - 1] else - match_score)\n",
    "        # subtract the gap_cost - insertions/deletions depends on which\n",
    "        # is the source and which is the target sequence\n",
    "        delete = score_matrix[i - 1, j] - gap_cost\n",
    "        insert = score_matrix[i, j - 1] - gap_cost\n",
    "        # Insert the highest score as the value for the traceback\n",
    "        score_matrix[i, j] = max(match, delete, insert, 0)\n",
    "    return score_matrix"
   ]
  },
  {
   "cell_type": "code",
   "execution_count": null,
   "metadata": {},
   "outputs": [],
   "source": [
    "#export\n",
    "def smithwaterman(hypothesis, reference, match_score=3, gap_cost=2):\n",
    "    \"\"\"High-level function that implements SW alignment with linear\n",
    "    gap cost. Returns all local alignments\"\"\"\n",
    "    hypo, ref = [h.upper() for h in hypothesis], [r.upper() for r in reference]\n",
    "    score_matrix = matrix(hypo, ref, match_score, gap_cost)\n",
    "    aligned_sequence_with_gaps, pos = traceback(score_matrix, ref)\n",
    "    return pos, aligned_sequence_with_gaps"
   ]
  },
  {
   "cell_type": "code",
   "execution_count": null,
   "metadata": {},
   "outputs": [],
   "source": []
  },
  {
   "cell_type": "code",
   "execution_count": null,
   "metadata": {},
   "outputs": [],
   "source": []
  }
 ],
 "metadata": {
  "kernelspec": {
   "display_name": "Python 3",
   "language": "python",
   "name": "python3"
  }
 },
 "nbformat": 4,
 "nbformat_minor": 2
}
